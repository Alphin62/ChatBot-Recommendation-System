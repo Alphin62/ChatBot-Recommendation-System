{
 "cells": [
  {
   "cell_type": "code",
   "execution_count": 3,
   "id": "5fcf2c62",
   "metadata": {},
   "outputs": [
    {
     "data": {
      "text/plain": [
       "SVC()"
      ]
     },
     "execution_count": 3,
     "metadata": {},
     "output_type": "execute_result"
    }
   ],
   "source": [
    "import pandas as pd\n",
    "from sklearn.feature_extraction.text import CountVectorizer\n",
    "from sklearn.svm import SVC\n",
    "import json\n",
    "\n",
    "with open('intents.json','r') as f:\n",
    "    intents = json.load(f)\n",
    "\n",
    "# Create a list of input messages and corresponding categories\n",
    "messages = []\n",
    "tag = []\n",
    "for intent in intents[\"intents\"]:\n",
    "    for pattern in intent[\"patterns\"]:\n",
    "        messages.append(pattern)\n",
    "        tag.append(intent[\"tag\"])\n",
    "\n",
    "# Create a training dataset\n",
    "df = pd.DataFrame({\"message\": messages, \"tag\": tag})\n",
    "\n",
    "# Vectorize the messages using a bag-of-words representation\n",
    "vectorizer = CountVectorizer()\n",
    "X = vectorizer.fit_transform(df[\"message\"])\n",
    "\n",
    "# Train a support vector machine classifier\n",
    "model = SVC()\n",
    "model.fit(X, df[\"tag\"])\n"
   ]
  },
  {
   "cell_type": "code",
   "execution_count": 6,
   "id": "b00436a4",
   "metadata": {},
   "outputs": [
    {
     "name": "stdout",
     "output_type": "stream",
     "text": [
      "['goodbye']\n"
     ]
    }
   ],
   "source": [
    "import pickle\n",
    "\n",
    "# Save the trained model to a file\n",
    "with open(\"chatbot_model.pkl\", \"wb\") as f:\n",
    "    pickle.dump(model, f)\n",
    "\n",
    "# Load the trained model from a file\n",
    "with open(\"chatbot_model.pkl\", \"rb\") as f:\n",
    "    model = pickle.load(f)\n",
    "\n",
    "# Use the model to classify an input message\n",
    "classification = model.predict(vectorizer.transform([\"Bye\"]))\n",
    "print(classification)  # Output: \"greeting\"\n"
   ]
  },
  {
   "cell_type": "code",
   "execution_count": null,
   "id": "723223cb",
   "metadata": {},
   "outputs": [],
   "source": []
  }
 ],
 "metadata": {
  "kernelspec": {
   "display_name": "Python 3 (ipykernel)",
   "language": "python",
   "name": "python3"
  },
  "language_info": {
   "codemirror_mode": {
    "name": "ipython",
    "version": 3
   },
   "file_extension": ".py",
   "mimetype": "text/x-python",
   "name": "python",
   "nbconvert_exporter": "python",
   "pygments_lexer": "ipython3",
   "version": "3.9.13"
  }
 },
 "nbformat": 4,
 "nbformat_minor": 5
}
